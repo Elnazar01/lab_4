{
 "cells": [
  {
   "cell_type": "markdown",
   "id": "d09ae58f-c2b3-4df4-9248-5117ced22962",
   "metadata": {},
   "source": [
    "1.Генератор, который генерирует квадраты чисел до N"
   ]
  },
  {
   "cell_type": "code",
   "execution_count": 26,
   "id": "8968c4d8-d377-4dda-8826-0b99f6eb8045",
   "metadata": {},
   "outputs": [
    {
     "name": "stdin",
     "output_type": "stream",
     "text": [
      "Введите число N:  6\n"
     ]
    },
    {
     "name": "stdout",
     "output_type": "stream",
     "text": [
      "0\n",
      "1\n",
      "4\n",
      "9\n",
      "16\n",
      "25\n",
      "36\n"
     ]
    }
   ],
   "source": [
    "def square_generator(n):\n",
    "    for i in range(n + 1):\n",
    "        yield i * i\n",
    "\n",
    "N = int(input(\"Введите число N: \"))\n",
    "\n",
    "for square in square_generator(N):\n",
    "    print(square)\n"
   ]
  },
  {
   "cell_type": "markdown",
   "id": "bbdddb74-4e82-496c-980c-e48e5bdfc25a",
   "metadata": {},
   "source": [
    "2.Программа для вывода четных чисел до n в виде строки, разделенной запятыми"
   ]
  },
  {
   "cell_type": "code",
   "execution_count": 10,
   "id": "89260ccc-abf3-4a75-9454-ac63dfb44414",
   "metadata": {},
   "outputs": [
    {
     "name": "stdin",
     "output_type": "stream",
     "text": [
      "Enter a number:  7\n"
     ]
    },
    {
     "name": "stdout",
     "output_type": "stream",
     "text": [
      "0,2,4,6\n"
     ]
    }
   ],
   "source": [
    "def even_generator(n):\n",
    "    for i in range(0, n + 1, 2):\n",
    "        yield i\n",
    "\n",
    "n = int(input(\"Enter a number: \"))\n",
    "print(\",\".join(map(str, even_generator(n))))"
   ]
  },
  {
   "cell_type": "markdown",
   "id": "a046af17-0726-4065-af52-c35ac2fd910e",
   "metadata": {},
   "source": [
    "3.Генератор для итерации чисел, делящихся на 3 и 4 до n"
   ]
  },
  {
   "cell_type": "code",
   "execution_count": 17,
   "id": "822c5f6a-1d69-487f-81f0-1d7844cac524",
   "metadata": {},
   "outputs": [
    {
     "name": "stdin",
     "output_type": "stream",
     "text": [
      "Enter a number:  81\n"
     ]
    },
    {
     "name": "stdout",
     "output_type": "stream",
     "text": [
      "0\n",
      "12\n",
      "24\n",
      "36\n",
      "48\n",
      "60\n",
      "72\n"
     ]
    }
   ],
   "source": [
    "def divisible_by_3_and_4(n):\n",
    "    for i in range(n + 1):\n",
    "        if i % 3 == 0 and i % 4 == 0:\n",
    "            yield i\n",
    "\n",
    "# Taking user input\n",
    "n = int(input(\"Enter a number: \"))\n",
    "\n",
    "# Printing the numbers\n",
    "for num in divisible_by_3_and_4(n):\n",
    "    print(num)"
   ]
  },
  {
   "cell_type": "markdown",
   "id": "0d974a70-45a8-4b21-af8a-243668272ce7",
   "metadata": {},
   "source": [
    "4.Генератор, который генерирует квадраты чисел от a до b"
   ]
  },
  {
   "cell_type": "code",
   "execution_count": 20,
   "id": "431a45b5-3062-4361-955b-c69478ea5124",
   "metadata": {},
   "outputs": [
    {
     "name": "stdin",
     "output_type": "stream",
     "text": [
      "Enter the start number (a):  4\n",
      "Enter the end number (b):  12\n"
     ]
    },
    {
     "name": "stdout",
     "output_type": "stream",
     "text": [
      "16\n",
      "25\n",
      "36\n",
      "49\n",
      "64\n",
      "81\n",
      "100\n",
      "121\n",
      "144\n"
     ]
    }
   ],
   "source": [
    "def squares(a, b):\n",
    "    for i in range(a, b + 1):\n",
    "        yield i * i\n",
    "\n",
    "# Taking user input\n",
    "a = int(input(\"Enter the start number (a): \"))\n",
    "b = int(input(\"Enter the end number (b): \"))\n",
    "\n",
    "# Testing the generator\n",
    "for square in squares(a, b):\n",
    "    print(square)"
   ]
  },
  {
   "cell_type": "markdown",
   "id": "7dda1566-8570-426c-9884-915f0484862d",
   "metadata": {},
   "source": [
    "5.Генератор, который возвращает числа от n до 0"
   ]
  },
  {
   "cell_type": "code",
   "execution_count": 23,
   "id": "88ab57fd-cb4f-4f56-ad05-eabd552f455d",
   "metadata": {},
   "outputs": [
    {
     "name": "stdin",
     "output_type": "stream",
     "text": [
      "Enter a number:  7\n"
     ]
    },
    {
     "name": "stdout",
     "output_type": "stream",
     "text": [
      "7\n",
      "6\n",
      "5\n",
      "4\n",
      "3\n",
      "2\n",
      "1\n",
      "0\n"
     ]
    }
   ],
   "source": [
    "def countdown(n):\n",
    "    for i in range(n, -1, -1):\n",
    "        yield i\n",
    "\n",
    "# Taking user input\n",
    "n = int(input(\"Enter a number: \"))\n",
    "\n",
    "# Using the generator\n",
    "for num in countdown(n):\n",
    "    print(num)"
   ]
  }
 ],
 "metadata": {
  "kernelspec": {
   "display_name": "Python [conda env:base] *",
   "language": "python",
   "name": "conda-base-py"
  },
  "language_info": {
   "codemirror_mode": {
    "name": "ipython",
    "version": 3
   },
   "file_extension": ".py",
   "mimetype": "text/x-python",
   "name": "python",
   "nbconvert_exporter": "python",
   "pygments_lexer": "ipython3",
   "version": "3.12.7"
  }
 },
 "nbformat": 4,
 "nbformat_minor": 5
}
