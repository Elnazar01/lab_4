{
 "cells": [
  {
   "cell_type": "markdown",
   "id": "17701ccc-66f3-4411-8132-2ba01f87301e",
   "metadata": {},
   "source": [
    "Python date"
   ]
  },
  {
   "cell_type": "markdown",
   "id": "adfac330-a59b-4208-9eeb-ff385cd82f29",
   "metadata": {},
   "source": [
    "1. Subtract Five Days from the Current Date"
   ]
  },
  {
   "cell_type": "code",
   "execution_count": 7,
   "id": "eb5c9b10-09f8-4feb-ae49-00a70445e4b9",
   "metadata": {},
   "outputs": [
    {
     "name": "stdout",
     "output_type": "stream",
     "text": [
      "Current Date: 2025-02-13\n",
      "Date 5 Days Ago: 2025-02-08\n"
     ]
    }
   ],
   "source": [
    "from datetime import datetime, timedelta\n",
    "\n",
    "current_date = datetime.now()\n",
    "new_date = current_date - timedelta(days=5)\n",
    "\n",
    "print(\"Current Date:\", current_date.strftime(\"%Y-%m-%d\"))\n",
    "print(\"Date 5 Days Ago:\", new_date.strftime(\"%Y-%m-%d\"))"
   ]
  },
  {
   "cell_type": "markdown",
   "id": "eebf28b9-451c-46b2-8d11-0f75dfc9eda6",
   "metadata": {},
   "source": [
    "2. Print Yesterday, Today, and Tomorrow"
   ]
  },
  {
   "cell_type": "code",
   "execution_count": 10,
   "id": "eb77de85-d6b7-4c50-8b53-26e8da81701a",
   "metadata": {},
   "outputs": [
    {
     "name": "stdout",
     "output_type": "stream",
     "text": [
      "Yesterday: 2025-02-12\n",
      "Today: 2025-02-13\n",
      "Tomorrow: 2025-02-14\n"
     ]
    }
   ],
   "source": [
    "from datetime import datetime, timedelta\n",
    "\n",
    "today = datetime.now().date()\n",
    "yesterday = today - timedelta(days=1)\n",
    "tomorrow = today + timedelta(days=1)\n",
    "\n",
    "print(\"Yesterday:\", yesterday)\n",
    "print(\"Today:\", today)\n",
    "print(\"Tomorrow:\", tomorrow)"
   ]
  },
  {
   "cell_type": "markdown",
   "id": "5d9b8143-4b2d-4270-88e2-01caf3d2a81e",
   "metadata": {},
   "source": [
    "3. Drop Microseconds from Datetime"
   ]
  },
  {
   "cell_type": "code",
   "execution_count": 13,
   "id": "732fe16b-bc87-4c62-baae-eae77039af21",
   "metadata": {},
   "outputs": [
    {
     "name": "stdout",
     "output_type": "stream",
     "text": [
      "Datetime without microseconds: 2025-02-13 11:56:40\n"
     ]
    }
   ],
   "source": [
    "from datetime import datetime\n",
    "\n",
    "current_time = datetime.now().replace(microsecond=0)\n",
    "print(\"Datetime without microseconds:\", current_time)"
   ]
  },
  {
   "cell_type": "markdown",
   "id": "0618a43f-b012-408e-9d2f-4f00d9452355",
   "metadata": {},
   "source": [
    "4. Calculate Difference Between Two Dates in Seconds"
   ]
  },
  {
   "cell_type": "code",
   "execution_count": 16,
   "id": "85c28a4b-4871-4ff3-b6f5-469ef90d8163",
   "metadata": {},
   "outputs": [
    {
     "name": "stdout",
     "output_type": "stream",
     "text": [
      "Difference in seconds: 270930.0\n"
     ]
    }
   ],
   "source": [
    "from datetime import datetime\n",
    "\n",
    "date1 = datetime(2024, 2, 10, 12, 30, 0)  # Example datetime\n",
    "date2 = datetime(2024, 2, 13, 15, 45, 30)  # Example datetime\n",
    "\n",
    "difference = (date2 - date1).total_seconds()\n",
    "print(\"Difference in seconds:\", difference)"
   ]
  }
 ],
 "metadata": {
  "kernelspec": {
   "display_name": "Python [conda env:base] *",
   "language": "python",
   "name": "conda-base-py"
  },
  "language_info": {
   "codemirror_mode": {
    "name": "ipython",
    "version": 3
   },
   "file_extension": ".py",
   "mimetype": "text/x-python",
   "name": "python",
   "nbconvert_exporter": "python",
   "pygments_lexer": "ipython3",
   "version": "3.12.7"
  }
 },
 "nbformat": 4,
 "nbformat_minor": 5
}
