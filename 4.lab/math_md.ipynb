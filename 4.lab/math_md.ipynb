{
 "cells": [
  {
   "cell_type": "markdown",
   "id": "d0301c8f-6621-4ba6-b902-770e852c0412",
   "metadata": {},
   "source": [
    "1.To convert degree to radian"
   ]
  },
  {
   "cell_type": "code",
   "execution_count": 3,
   "id": "b86dc0a9-0605-439e-852f-b2d99c4d35b9",
   "metadata": {},
   "outputs": [
    {
     "name": "stdin",
     "output_type": "stream",
     "text": [
      "Input degree:  45\n"
     ]
    },
    {
     "name": "stdout",
     "output_type": "stream",
     "text": [
      "Output radian: 0.785398\n"
     ]
    }
   ],
   "source": [
    "import math\n",
    "# formula : degree * pi/180\n",
    "degree = float(input(\"Input degree: \"))\n",
    "radian = degree * (math.pi / 180)\n",
    "\n",
    "print(f\"Output radian: {radian:.6f}\")"
   ]
  },
  {
   "cell_type": "markdown",
   "id": "00acbfec-7837-4531-8fe9-987e180f544a",
   "metadata": {},
   "source": [
    "2.To calculate the area of a trapezoid"
   ]
  },
  {
   "cell_type": "code",
   "execution_count": 6,
   "id": "c2997b43-5db3-4e24-bfde-b9f58f0afa52",
   "metadata": {},
   "outputs": [
    {
     "name": "stdin",
     "output_type": "stream",
     "text": [
      "Height:  4\n",
      "Base, first value:  4\n",
      "Base, second value:  5\n"
     ]
    },
    {
     "name": "stdout",
     "output_type": "stream",
     "text": [
      "Expected Output: 18.0\n"
     ]
    }
   ],
   "source": [
    "height = float(input(\"Height: \"))\n",
    "base1 = float(input(\"Base, first value: \"))\n",
    "base2 = float(input(\"Base, second value: \"))\n",
    "# formula : 1/2 * (base1+base2) * height\n",
    "area = 0.5 * (base1 + base2) * height\n",
    "\n",
    "print(f\"Expected Output: {area:.1f}\")"
   ]
  },
  {
   "cell_type": "markdown",
   "id": "42fcdcec-fdff-4a87-8c40-b8f4c04b7e33",
   "metadata": {},
   "source": [
    "3.To calculate the area of regular polygon"
   ]
  },
  {
   "cell_type": "code",
   "execution_count": 9,
   "id": "026c0aff-e05c-49df-b33f-b4d16be4da74",
   "metadata": {},
   "outputs": [
    {
     "name": "stdin",
     "output_type": "stream",
     "text": [
      "Input number of sides:  4\n",
      "Input the length of a side:  5\n"
     ]
    },
    {
     "name": "stdout",
     "output_type": "stream",
     "text": [
      "The area of the polygon is: 25\n"
     ]
    }
   ],
   "source": [
    "import math\n",
    "\n",
    "n = int(input(\"Input number of sides: \"))\n",
    "s = float(input(\"Input the length of a side: \"))\n",
    "\n",
    "# formula : (n*s^2)/(4*tan(pi/n))\n",
    "\n",
    "area = (n * s ** 2) / (4 * math.tan(math.pi / n))\n",
    "\n",
    "print(f\"The area of the polygon is: {area:.0f}\")"
   ]
  },
  {
   "cell_type": "markdown",
   "id": "ec97d1f2-dd57-4a02-812b-5d316b4c7958",
   "metadata": {},
   "source": [
    "4.To calculate the area of a parallelogram"
   ]
  },
  {
   "cell_type": "code",
   "execution_count": 12,
   "id": "9323931c-f890-4be2-ad40-2222f8188051",
   "metadata": {},
   "outputs": [
    {
     "name": "stdin",
     "output_type": "stream",
     "text": [
      "Length of base:  3\n",
      "Height of parallelogram:  4\n"
     ]
    },
    {
     "name": "stdout",
     "output_type": "stream",
     "text": [
      "Expected Output: 12.0\n"
     ]
    }
   ],
   "source": [
    "base = float(input(\"Length of base: \"))\n",
    "height = float(input(\"Height of parallelogram: \"))\n",
    "\n",
    "area = base * height\n",
    "\n",
    "print(f\"Expected Output: {area:.1f}\")"
   ]
  }
 ],
 "metadata": {
  "kernelspec": {
   "display_name": "Python [conda env:base] *",
   "language": "python",
   "name": "conda-base-py"
  },
  "language_info": {
   "codemirror_mode": {
    "name": "ipython",
    "version": 3
   },
   "file_extension": ".py",
   "mimetype": "text/x-python",
   "name": "python",
   "nbconvert_exporter": "python",
   "pygments_lexer": "ipython3",
   "version": "3.12.7"
  }
 },
 "nbformat": 4,
 "nbformat_minor": 5
}
